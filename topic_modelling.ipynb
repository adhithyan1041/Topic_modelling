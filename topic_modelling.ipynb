{
 "cells": [
  {
   "cell_type": "code",
   "execution_count": 2,
   "id": "c032fdf2",
   "metadata": {},
   "outputs": [],
   "source": [
    "import pandas as pd"
   ]
  },
  {
   "cell_type": "code",
   "execution_count": 3,
   "id": "4f296134",
   "metadata": {},
   "outputs": [
    {
     "data": {
      "text/plain": [
       "'C:\\\\Users\\\\adhit\\\\Desktop\\\\pers\\\\coding challenge\\\\git_code\\\\topic_modelling'"
      ]
     },
     "execution_count": 3,
     "metadata": {},
     "output_type": "execute_result"
    }
   ],
   "source": [
    "pwd"
   ]
  },
  {
   "cell_type": "code",
   "execution_count": 4,
   "id": "b3140466",
   "metadata": {},
   "outputs": [],
   "source": [
    "#reading in the data\n",
    "\n",
    "project_df = pd.read_csv('C:\\\\Users\\\\adhit\\\\Downloads\\\\project-csv.csv')"
   ]
  },
  {
   "cell_type": "code",
   "execution_count": 5,
   "id": "f52c6817",
   "metadata": {},
   "outputs": [
    {
     "data": {
      "text/plain": [
       "(35303, 19)"
      ]
     },
     "execution_count": 5,
     "metadata": {},
     "output_type": "execute_result"
    }
   ],
   "source": [
    "project_df.shape"
   ]
  },
  {
   "cell_type": "markdown",
   "id": "59ab60e1",
   "metadata": {},
   "source": [
    "# Checking & removing the duplicates\n"
   ]
  },
  {
   "cell_type": "code",
   "execution_count": 6,
   "id": "0e9006cf",
   "metadata": {},
   "outputs": [],
   "source": [
    "#Removing duplicates\n",
    "\n",
    "project_df['dup'] = project_df.duplicated(subset=None, keep='first')"
   ]
  },
  {
   "cell_type": "code",
   "execution_count": 7,
   "id": "5690ad46",
   "metadata": {
    "scrolled": true
   },
   "outputs": [
    {
     "data": {
      "text/html": [
       "<div>\n",
       "<style scoped>\n",
       "    .dataframe tbody tr th:only-of-type {\n",
       "        vertical-align: middle;\n",
       "    }\n",
       "\n",
       "    .dataframe tbody tr th {\n",
       "        vertical-align: top;\n",
       "    }\n",
       "\n",
       "    .dataframe thead th {\n",
       "        text-align: right;\n",
       "    }\n",
       "</style>\n",
       "<table border=\"1\" class=\"dataframe\">\n",
       "  <thead>\n",
       "    <tr style=\"text-align: right;\">\n",
       "      <th></th>\n",
       "      <th>id</th>\n",
       "      <th>acronym</th>\n",
       "      <th>status</th>\n",
       "      <th>title</th>\n",
       "      <th>startDate</th>\n",
       "      <th>endDate</th>\n",
       "      <th>totalCost</th>\n",
       "      <th>ecMaxContribution</th>\n",
       "      <th>legalBasis</th>\n",
       "      <th>topics</th>\n",
       "      <th>ecSignatureDate</th>\n",
       "      <th>frameworkProgramme</th>\n",
       "      <th>masterCall</th>\n",
       "      <th>subCall</th>\n",
       "      <th>fundingScheme</th>\n",
       "      <th>nature</th>\n",
       "      <th>objective</th>\n",
       "      <th>contentUpdateDate</th>\n",
       "      <th>rcn</th>\n",
       "      <th>dup</th>\n",
       "    </tr>\n",
       "  </thead>\n",
       "  <tbody>\n",
       "    <tr>\n",
       "      <th>0</th>\n",
       "      <td>101034345</td>\n",
       "      <td>DOROTHY</td>\n",
       "      <td>SIGNED</td>\n",
       "      <td>DevelOp interdisciplinaRy apprOaches to healTH...</td>\n",
       "      <td>2021-09-01T00:00:00Z</td>\n",
       "      <td>2026-08-31T00:00:00Z</td>\n",
       "      <td>5517000.0</td>\n",
       "      <td>2758500.00</td>\n",
       "      <td>H2020-EU.1.3.</td>\n",
       "      <td>MSCA-COFUND-2020</td>\n",
       "      <td>2021-04-27T00:00:00Z</td>\n",
       "      <td>H2020</td>\n",
       "      <td>H2020-MSCA-COFUND-2020</td>\n",
       "      <td>H2020-MSCA-COFUND-2020</td>\n",
       "      <td>MSCA-COFUND-FP</td>\n",
       "      <td>NaN</td>\n",
       "      <td>Responding to the need to equip European socie...</td>\n",
       "      <td>2021-09-02T20:45:37Z</td>\n",
       "      <td>235801</td>\n",
       "      <td>False</td>\n",
       "    </tr>\n",
       "    <tr>\n",
       "      <th>1</th>\n",
       "      <td>101034926</td>\n",
       "      <td>CNergy</td>\n",
       "      <td>SIGNED</td>\n",
       "      <td>Carbon Nanomembranes for Energy Storage Applic...</td>\n",
       "      <td>2021-05-01T00:00:00Z</td>\n",
       "      <td>2022-01-31T00:00:00Z</td>\n",
       "      <td>0.0</td>\n",
       "      <td>100000.00</td>\n",
       "      <td>NaN</td>\n",
       "      <td>FETOPEN-03-2018-2019-2020</td>\n",
       "      <td>NaN</td>\n",
       "      <td>H2020</td>\n",
       "      <td>NaN</td>\n",
       "      <td>H2020-FETOPEN-2018-2019-2020-4</td>\n",
       "      <td>CSA-LSP</td>\n",
       "      <td>NaN</td>\n",
       "      <td>CNM Technologies (CNMT) has developed a highly...</td>\n",
       "      <td>2021-05-21T11:29:04Z</td>\n",
       "      <td>235780</td>\n",
       "      <td>False</td>\n",
       "    </tr>\n",
       "    <tr>\n",
       "      <th>2</th>\n",
       "      <td>957151</td>\n",
       "      <td>SATELLITE IA</td>\n",
       "      <td>SIGNED</td>\n",
       "      <td>Advanced MMICs for SOTM and satellites constel...</td>\n",
       "      <td>2020-10-01T00:00:00Z</td>\n",
       "      <td>2021-12-31T00:00:00Z</td>\n",
       "      <td>0.0</td>\n",
       "      <td>109500.00</td>\n",
       "      <td>H2020-EU.2.3.</td>\n",
       "      <td>INNOSUP-02-2019-2020</td>\n",
       "      <td>2020-09-15T00:00:00Z</td>\n",
       "      <td>H2020</td>\n",
       "      <td>H2020-INNOSUP-2018-2020</td>\n",
       "      <td>H2020-INNOSUP-2020-02</td>\n",
       "      <td>CSA-LSP</td>\n",
       "      <td>NaN</td>\n",
       "      <td>The proliferation of LEO (Low Earth Orbit) and...</td>\n",
       "      <td>2021-10-05T18:36:06Z</td>\n",
       "      <td>231593</td>\n",
       "      <td>False</td>\n",
       "    </tr>\n",
       "    <tr>\n",
       "      <th>3</th>\n",
       "      <td>970958</td>\n",
       "      <td>TilePlus</td>\n",
       "      <td>SIGNED</td>\n",
       "      <td>Ground-breaking roof tile solution for solar e...</td>\n",
       "      <td>2021-06-01T00:00:00Z</td>\n",
       "      <td>2023-05-31T00:00:00Z</td>\n",
       "      <td>3472500.0</td>\n",
       "      <td>2430750.00</td>\n",
       "      <td>NaN</td>\n",
       "      <td>EIC-FTI-2018-2020</td>\n",
       "      <td>NaN</td>\n",
       "      <td>H2020</td>\n",
       "      <td>NaN</td>\n",
       "      <td>H2020-EIC-FTI-2018-2020</td>\n",
       "      <td>IA</td>\n",
       "      <td>NaN</td>\n",
       "      <td>The overall objective of the project is to mat...</td>\n",
       "      <td>2021-05-21T14:25:08Z</td>\n",
       "      <td>236314</td>\n",
       "      <td>False</td>\n",
       "    </tr>\n",
       "    <tr>\n",
       "      <th>4</th>\n",
       "      <td>970564</td>\n",
       "      <td>IMPOWER2X</td>\n",
       "      <td>SIGNED</td>\n",
       "      <td>INERATEC Modular Plants for Renewable Chemical...</td>\n",
       "      <td>2021-05-01T00:00:00Z</td>\n",
       "      <td>2023-04-30T00:00:00Z</td>\n",
       "      <td>3492082.5</td>\n",
       "      <td>2444457.75</td>\n",
       "      <td>NaN</td>\n",
       "      <td>EIC-SMEInst-2018-2020</td>\n",
       "      <td>NaN</td>\n",
       "      <td>H2020</td>\n",
       "      <td>NaN</td>\n",
       "      <td>H2020-EIC-SMEInst-2018-2020-3</td>\n",
       "      <td>SME-2b</td>\n",
       "      <td>NaN</td>\n",
       "      <td>INERATEC (IC) sells modular chemical plants fo...</td>\n",
       "      <td>2021-05-21T14:24:55Z</td>\n",
       "      <td>236312</td>\n",
       "      <td>False</td>\n",
       "    </tr>\n",
       "  </tbody>\n",
       "</table>\n",
       "</div>"
      ],
      "text/plain": [
       "          id       acronym  status  \\\n",
       "0  101034345       DOROTHY  SIGNED   \n",
       "1  101034926        CNergy  SIGNED   \n",
       "2     957151  SATELLITE IA  SIGNED   \n",
       "3     970958      TilePlus  SIGNED   \n",
       "4     970564     IMPOWER2X  SIGNED   \n",
       "\n",
       "                                               title             startDate  \\\n",
       "0  DevelOp interdisciplinaRy apprOaches to healTH...  2021-09-01T00:00:00Z   \n",
       "1  Carbon Nanomembranes for Energy Storage Applic...  2021-05-01T00:00:00Z   \n",
       "2  Advanced MMICs for SOTM and satellites constel...  2020-10-01T00:00:00Z   \n",
       "3  Ground-breaking roof tile solution for solar e...  2021-06-01T00:00:00Z   \n",
       "4  INERATEC Modular Plants for Renewable Chemical...  2021-05-01T00:00:00Z   \n",
       "\n",
       "                endDate  totalCost  ecMaxContribution     legalBasis  \\\n",
       "0  2026-08-31T00:00:00Z  5517000.0         2758500.00  H2020-EU.1.3.   \n",
       "1  2022-01-31T00:00:00Z        0.0          100000.00            NaN   \n",
       "2  2021-12-31T00:00:00Z        0.0          109500.00  H2020-EU.2.3.   \n",
       "3  2023-05-31T00:00:00Z  3472500.0         2430750.00            NaN   \n",
       "4  2023-04-30T00:00:00Z  3492082.5         2444457.75            NaN   \n",
       "\n",
       "                      topics       ecSignatureDate frameworkProgramme  \\\n",
       "0           MSCA-COFUND-2020  2021-04-27T00:00:00Z              H2020   \n",
       "1  FETOPEN-03-2018-2019-2020                   NaN              H2020   \n",
       "2       INNOSUP-02-2019-2020  2020-09-15T00:00:00Z              H2020   \n",
       "3          EIC-FTI-2018-2020                   NaN              H2020   \n",
       "4      EIC-SMEInst-2018-2020                   NaN              H2020   \n",
       "\n",
       "                masterCall                         subCall   fundingScheme  \\\n",
       "0   H2020-MSCA-COFUND-2020          H2020-MSCA-COFUND-2020  MSCA-COFUND-FP   \n",
       "1                      NaN  H2020-FETOPEN-2018-2019-2020-4         CSA-LSP   \n",
       "2  H2020-INNOSUP-2018-2020           H2020-INNOSUP-2020-02         CSA-LSP   \n",
       "3                      NaN         H2020-EIC-FTI-2018-2020              IA   \n",
       "4                      NaN   H2020-EIC-SMEInst-2018-2020-3          SME-2b   \n",
       "\n",
       "  nature                                          objective  \\\n",
       "0    NaN  Responding to the need to equip European socie...   \n",
       "1    NaN  CNM Technologies (CNMT) has developed a highly...   \n",
       "2    NaN  The proliferation of LEO (Low Earth Orbit) and...   \n",
       "3    NaN  The overall objective of the project is to mat...   \n",
       "4    NaN  INERATEC (IC) sells modular chemical plants fo...   \n",
       "\n",
       "      contentUpdateDate     rcn    dup  \n",
       "0  2021-09-02T20:45:37Z  235801  False  \n",
       "1  2021-05-21T11:29:04Z  235780  False  \n",
       "2  2021-10-05T18:36:06Z  231593  False  \n",
       "3  2021-05-21T14:25:08Z  236314  False  \n",
       "4  2021-05-21T14:24:55Z  236312  False  "
      ]
     },
     "execution_count": 7,
     "metadata": {},
     "output_type": "execute_result"
    }
   ],
   "source": [
    "project_df.head()"
   ]
  },
  {
   "cell_type": "code",
   "execution_count": 9,
   "id": "b2cd78d2",
   "metadata": {},
   "outputs": [],
   "source": [
    "# removing the duplicate columns.\n",
    "\n",
    "project_df = project_df[project_df['dup'] == False]"
   ]
  },
  {
   "cell_type": "code",
   "execution_count": 10,
   "id": "f8f5fb0c",
   "metadata": {
    "scrolled": false
   },
   "outputs": [
    {
     "data": {
      "text/plain": [
       "(35303, 20)"
      ]
     },
     "execution_count": 10,
     "metadata": {},
     "output_type": "execute_result"
    }
   ],
   "source": [
    "project_df.shape"
   ]
  },
  {
   "cell_type": "code",
   "execution_count": 11,
   "id": "87cf56f7",
   "metadata": {},
   "outputs": [],
   "source": [
    "#deleting the column 'dup'\n",
    "del project_df['dup']\n"
   ]
  },
  {
   "cell_type": "markdown",
   "id": "a48c8445",
   "metadata": {},
   "source": [
    "# Text Preprocessing"
   ]
  },
  {
   "cell_type": "code",
   "execution_count": 154,
   "id": "a23963eb",
   "metadata": {},
   "outputs": [],
   "source": [
    "import re\n",
    "import spacy\n",
    "from spacy.lang.en import English\n",
    "from nltk.stem.snowball import SnowballStemmer\n",
    "nlp = English()\n",
    "nlp2= spacy.load('en_core_web_sm')\n",
    "tokenizer = nlp.tokenizer\n",
    "s_stemmer=SnowballStemmer(language='english')\n",
    "\n",
    "def preprocess(input_text):\n",
    "    \n",
    "    # regular expression keeping only letters \n",
    "    letters_only_text = re.sub(\"[^a-zA-Z]\", \" \", input_text)\n",
    "    \n",
    "    # convert to lower case\n",
    "    text_to_lower_case= letters_only_text.lower()\n",
    "    \n",
    "    \n",
    "    # word tokenization\n",
    "    token_list = []\n",
    "    tokens = tokenizer(text_to_lower_case)\n",
    "    \n",
    "    for token in tokens:\n",
    "        token_list.append(token.text)\n",
    "    \n",
    "    \n",
    "    #stop words removal\n",
    "    stop_words_removed_text=[]\n",
    "    for tok in token_list:\n",
    "        if nlp.vocab[tok].is_stop == False and len(tok.strip())!=0 and len(tok)!=1:\n",
    "            stop_words_removed_text.append(tok)\n",
    "#     print(stop_words_removed_text)\n",
    "\n",
    "\n",
    "#     # stemming\n",
    "#     stemmed_text=[]\n",
    "#     for word in stop_words_removed_text:\n",
    "#         stemmed_text.append(s_stemmer.stem(word))\n",
    "# #     print(stemmed_text)\n",
    "    \n",
    "    #Lemmatization\n",
    "    lemmatized_text=[]\n",
    "    string=''\n",
    "    for w in stop_words_removed_text:\n",
    "        if string=='':\n",
    "            string = w\n",
    "        else:\n",
    "            string= string + ' ' + w\n",
    "        \n",
    "#     print(string)\n",
    "    nlp_string = nlp2(string)\n",
    "    \n",
    "    for word in nlp_string:\n",
    "        lemmatized_text.append(word.lemma_)\n",
    "#     print(lemmatized_text)\n",
    "    \n",
    "\n",
    "    # converting list back to string\n",
    "    return \" \".join(lemmatized_text)"
   ]
  },
  {
   "cell_type": "code",
   "execution_count": 156,
   "id": "5fe72473",
   "metadata": {
    "scrolled": true
   },
   "outputs": [
    {
     "data": {
      "text/plain": [
       "'india fast classmate notebook school'"
      ]
     },
     "execution_count": 156,
     "metadata": {},
     "output_type": "execute_result"
    }
   ],
   "source": [
    "t=\"india's no 1 fasting is the classmating notebook. This is used in the schools mostly.\"\n",
    "preprocess(t)\n"
   ]
  },
  {
   "cell_type": "code",
   "execution_count": 150,
   "id": "31c709dd",
   "metadata": {},
   "outputs": [],
   "source": [
    "project_df['Cleaned_objective'] = project_df['objective'].apply(preprocess)"
   ]
  },
  {
   "cell_type": "code",
   "execution_count": 153,
   "id": "e5945a1f",
   "metadata": {
    "scrolled": true
   },
   "outputs": [
    {
     "data": {
      "text/html": [
       "<div>\n",
       "<style scoped>\n",
       "    .dataframe tbody tr th:only-of-type {\n",
       "        vertical-align: middle;\n",
       "    }\n",
       "\n",
       "    .dataframe tbody tr th {\n",
       "        vertical-align: top;\n",
       "    }\n",
       "\n",
       "    .dataframe thead th {\n",
       "        text-align: right;\n",
       "    }\n",
       "</style>\n",
       "<table border=\"1\" class=\"dataframe\">\n",
       "  <thead>\n",
       "    <tr style=\"text-align: right;\">\n",
       "      <th></th>\n",
       "      <th>id</th>\n",
       "      <th>objective</th>\n",
       "      <th>Cleaned_objective</th>\n",
       "    </tr>\n",
       "  </thead>\n",
       "  <tbody>\n",
       "    <tr>\n",
       "      <th>0</th>\n",
       "      <td>101034345</td>\n",
       "      <td>Responding to the need to equip European socie...</td>\n",
       "      <td>respond need equip european society multi disc...</td>\n",
       "    </tr>\n",
       "    <tr>\n",
       "      <th>1</th>\n",
       "      <td>101034926</td>\n",
       "      <td>CNM Technologies (CNMT) has developed a highly...</td>\n",
       "      <td>cnm technologies cnmt develop highly permeable...</td>\n",
       "    </tr>\n",
       "    <tr>\n",
       "      <th>2</th>\n",
       "      <td>957151</td>\n",
       "      <td>The proliferation of LEO (Low Earth Orbit) and...</td>\n",
       "      <td>proliferation leo low earth orbit meo medium e...</td>\n",
       "    </tr>\n",
       "    <tr>\n",
       "      <th>3</th>\n",
       "      <td>970958</td>\n",
       "      <td>The overall objective of the project is to mat...</td>\n",
       "      <td>overall objective project mature qualify enabl...</td>\n",
       "    </tr>\n",
       "    <tr>\n",
       "      <th>4</th>\n",
       "      <td>970564</td>\n",
       "      <td>INERATEC (IC) sells modular chemical plants fo...</td>\n",
       "      <td>ineratec ic sell modular chemical plant produc...</td>\n",
       "    </tr>\n",
       "    <tr>\n",
       "      <th>...</th>\n",
       "      <td>...</td>\n",
       "      <td>...</td>\n",
       "      <td>...</td>\n",
       "    </tr>\n",
       "    <tr>\n",
       "      <th>35298</th>\n",
       "      <td>694816</td>\n",
       "      <td>Regione Liguria, together with IRE (its depend...</td>\n",
       "      <td>regione liguria ire dependent agency energy in...</td>\n",
       "    </tr>\n",
       "    <tr>\n",
       "      <th>35299</th>\n",
       "      <td>952008</td>\n",
       "      <td>The overall aim of the ExCEED project is to re...</td>\n",
       "      <td>overall aim exceed project recruit outstanding...</td>\n",
       "    </tr>\n",
       "    <tr>\n",
       "      <th>35300</th>\n",
       "      <td>952390</td>\n",
       "      <td>TRANSCEND, designed as a translational researc...</td>\n",
       "      <td>transcend design translational research centre...</td>\n",
       "    </tr>\n",
       "    <tr>\n",
       "      <th>35301</th>\n",
       "      <td>699641</td>\n",
       "      <td>The proposal aims to promote the interest and ...</td>\n",
       "      <td>proposal aim promote interest investment small...</td>\n",
       "    </tr>\n",
       "    <tr>\n",
       "      <th>35302</th>\n",
       "      <td>862844</td>\n",
       "      <td>A two-day conference (WIRE X) will be organise...</td>\n",
       "      <td>day conference wire organise north east region...</td>\n",
       "    </tr>\n",
       "  </tbody>\n",
       "</table>\n",
       "<p>35303 rows × 3 columns</p>\n",
       "</div>"
      ],
      "text/plain": [
       "              id                                          objective  \\\n",
       "0      101034345  Responding to the need to equip European socie...   \n",
       "1      101034926  CNM Technologies (CNMT) has developed a highly...   \n",
       "2         957151  The proliferation of LEO (Low Earth Orbit) and...   \n",
       "3         970958  The overall objective of the project is to mat...   \n",
       "4         970564  INERATEC (IC) sells modular chemical plants fo...   \n",
       "...          ...                                                ...   \n",
       "35298     694816  Regione Liguria, together with IRE (its depend...   \n",
       "35299     952008  The overall aim of the ExCEED project is to re...   \n",
       "35300     952390  TRANSCEND, designed as a translational researc...   \n",
       "35301     699641  The proposal aims to promote the interest and ...   \n",
       "35302     862844  A two-day conference (WIRE X) will be organise...   \n",
       "\n",
       "                                       Cleaned_objective  \n",
       "0      respond need equip european society multi disc...  \n",
       "1      cnm technologies cnmt develop highly permeable...  \n",
       "2      proliferation leo low earth orbit meo medium e...  \n",
       "3      overall objective project mature qualify enabl...  \n",
       "4      ineratec ic sell modular chemical plant produc...  \n",
       "...                                                  ...  \n",
       "35298  regione liguria ire dependent agency energy in...  \n",
       "35299  overall aim exceed project recruit outstanding...  \n",
       "35300  transcend design translational research centre...  \n",
       "35301  proposal aim promote interest investment small...  \n",
       "35302  day conference wire organise north east region...  \n",
       "\n",
       "[35303 rows x 3 columns]"
      ]
     },
     "execution_count": 153,
     "metadata": {},
     "output_type": "execute_result"
    }
   ],
   "source": [
    "project_df[['id','objective','Cleaned_objective']]"
   ]
  }
 ],
 "metadata": {
  "kernelspec": {
   "display_name": "Python 3",
   "language": "python",
   "name": "python3"
  },
  "language_info": {
   "codemirror_mode": {
    "name": "ipython",
    "version": 3
   },
   "file_extension": ".py",
   "mimetype": "text/x-python",
   "name": "python",
   "nbconvert_exporter": "python",
   "pygments_lexer": "ipython3",
   "version": "3.8.8"
  }
 },
 "nbformat": 4,
 "nbformat_minor": 5
}
