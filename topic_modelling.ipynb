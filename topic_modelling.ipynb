{
 "cells": [
  {
   "cell_type": "code",
   "execution_count": 2,
   "id": "2eea407d",
   "metadata": {},
   "outputs": [],
   "source": [
    "import pandas as pd"
   ]
  },
  {
   "cell_type": "code",
   "execution_count": 3,
   "id": "c9685af9",
   "metadata": {},
   "outputs": [
    {
     "data": {
      "text/plain": [
       "'C:\\\\Users\\\\adhit\\\\Desktop\\\\pers\\\\coding challenge\\\\git_code\\\\topic_modelling'"
      ]
     },
     "execution_count": 3,
     "metadata": {},
     "output_type": "execute_result"
    }
   ],
   "source": [
    "pwd"
   ]
  },
  {
   "cell_type": "code",
   "execution_count": 4,
   "id": "c6702dd0",
   "metadata": {},
   "outputs": [],
   "source": [
    "#reading in the data\n",
    "\n",
    "project_df = pd.read_csv('C:\\\\Users\\\\adhit\\\\Downloads\\\\project-csv.csv')"
   ]
  },
  {
   "cell_type": "code",
   "execution_count": 5,
   "id": "218e4fd2",
   "metadata": {},
   "outputs": [
    {
     "data": {
      "text/plain": [
       "(35303, 19)"
      ]
     },
     "execution_count": 5,
     "metadata": {},
     "output_type": "execute_result"
    }
   ],
   "source": [
    "project_df.shape"
   ]
  },
  {
   "cell_type": "markdown",
   "id": "5f611168",
   "metadata": {},
   "source": [
    "# Checking & removing the duplicates\n"
   ]
  },
  {
   "cell_type": "code",
   "execution_count": 6,
   "id": "781a7836",
   "metadata": {},
   "outputs": [],
   "source": [
    "#Removing duplicates\n",
    "\n",
    "project_df['dup'] = project_df.duplicated(subset=None, keep='first')"
   ]
  },
  {
   "cell_type": "code",
   "execution_count": 7,
   "id": "f9ed8623",
   "metadata": {
    "scrolled": true
   },
   "outputs": [
    {
     "data": {
      "text/html": [
       "<div>\n",
       "<style scoped>\n",
       "    .dataframe tbody tr th:only-of-type {\n",
       "        vertical-align: middle;\n",
       "    }\n",
       "\n",
       "    .dataframe tbody tr th {\n",
       "        vertical-align: top;\n",
       "    }\n",
       "\n",
       "    .dataframe thead th {\n",
       "        text-align: right;\n",
       "    }\n",
       "</style>\n",
       "<table border=\"1\" class=\"dataframe\">\n",
       "  <thead>\n",
       "    <tr style=\"text-align: right;\">\n",
       "      <th></th>\n",
       "      <th>id</th>\n",
       "      <th>acronym</th>\n",
       "      <th>status</th>\n",
       "      <th>title</th>\n",
       "      <th>startDate</th>\n",
       "      <th>endDate</th>\n",
       "      <th>totalCost</th>\n",
       "      <th>ecMaxContribution</th>\n",
       "      <th>legalBasis</th>\n",
       "      <th>topics</th>\n",
       "      <th>ecSignatureDate</th>\n",
       "      <th>frameworkProgramme</th>\n",
       "      <th>masterCall</th>\n",
       "      <th>subCall</th>\n",
       "      <th>fundingScheme</th>\n",
       "      <th>nature</th>\n",
       "      <th>objective</th>\n",
       "      <th>contentUpdateDate</th>\n",
       "      <th>rcn</th>\n",
       "      <th>dup</th>\n",
       "    </tr>\n",
       "  </thead>\n",
       "  <tbody>\n",
       "    <tr>\n",
       "      <th>0</th>\n",
       "      <td>101034345</td>\n",
       "      <td>DOROTHY</td>\n",
       "      <td>SIGNED</td>\n",
       "      <td>DevelOp interdisciplinaRy apprOaches to healTH...</td>\n",
       "      <td>2021-09-01T00:00:00Z</td>\n",
       "      <td>2026-08-31T00:00:00Z</td>\n",
       "      <td>5517000.0</td>\n",
       "      <td>2758500.00</td>\n",
       "      <td>H2020-EU.1.3.</td>\n",
       "      <td>MSCA-COFUND-2020</td>\n",
       "      <td>2021-04-27T00:00:00Z</td>\n",
       "      <td>H2020</td>\n",
       "      <td>H2020-MSCA-COFUND-2020</td>\n",
       "      <td>H2020-MSCA-COFUND-2020</td>\n",
       "      <td>MSCA-COFUND-FP</td>\n",
       "      <td>NaN</td>\n",
       "      <td>Responding to the need to equip European socie...</td>\n",
       "      <td>2021-09-02T20:45:37Z</td>\n",
       "      <td>235801</td>\n",
       "      <td>False</td>\n",
       "    </tr>\n",
       "    <tr>\n",
       "      <th>1</th>\n",
       "      <td>101034926</td>\n",
       "      <td>CNergy</td>\n",
       "      <td>SIGNED</td>\n",
       "      <td>Carbon Nanomembranes for Energy Storage Applic...</td>\n",
       "      <td>2021-05-01T00:00:00Z</td>\n",
       "      <td>2022-01-31T00:00:00Z</td>\n",
       "      <td>0.0</td>\n",
       "      <td>100000.00</td>\n",
       "      <td>NaN</td>\n",
       "      <td>FETOPEN-03-2018-2019-2020</td>\n",
       "      <td>NaN</td>\n",
       "      <td>H2020</td>\n",
       "      <td>NaN</td>\n",
       "      <td>H2020-FETOPEN-2018-2019-2020-4</td>\n",
       "      <td>CSA-LSP</td>\n",
       "      <td>NaN</td>\n",
       "      <td>CNM Technologies (CNMT) has developed a highly...</td>\n",
       "      <td>2021-05-21T11:29:04Z</td>\n",
       "      <td>235780</td>\n",
       "      <td>False</td>\n",
       "    </tr>\n",
       "    <tr>\n",
       "      <th>2</th>\n",
       "      <td>957151</td>\n",
       "      <td>SATELLITE IA</td>\n",
       "      <td>SIGNED</td>\n",
       "      <td>Advanced MMICs for SOTM and satellites constel...</td>\n",
       "      <td>2020-10-01T00:00:00Z</td>\n",
       "      <td>2021-12-31T00:00:00Z</td>\n",
       "      <td>0.0</td>\n",
       "      <td>109500.00</td>\n",
       "      <td>H2020-EU.2.3.</td>\n",
       "      <td>INNOSUP-02-2019-2020</td>\n",
       "      <td>2020-09-15T00:00:00Z</td>\n",
       "      <td>H2020</td>\n",
       "      <td>H2020-INNOSUP-2018-2020</td>\n",
       "      <td>H2020-INNOSUP-2020-02</td>\n",
       "      <td>CSA-LSP</td>\n",
       "      <td>NaN</td>\n",
       "      <td>The proliferation of LEO (Low Earth Orbit) and...</td>\n",
       "      <td>2021-10-05T18:36:06Z</td>\n",
       "      <td>231593</td>\n",
       "      <td>False</td>\n",
       "    </tr>\n",
       "    <tr>\n",
       "      <th>3</th>\n",
       "      <td>970958</td>\n",
       "      <td>TilePlus</td>\n",
       "      <td>SIGNED</td>\n",
       "      <td>Ground-breaking roof tile solution for solar e...</td>\n",
       "      <td>2021-06-01T00:00:00Z</td>\n",
       "      <td>2023-05-31T00:00:00Z</td>\n",
       "      <td>3472500.0</td>\n",
       "      <td>2430750.00</td>\n",
       "      <td>NaN</td>\n",
       "      <td>EIC-FTI-2018-2020</td>\n",
       "      <td>NaN</td>\n",
       "      <td>H2020</td>\n",
       "      <td>NaN</td>\n",
       "      <td>H2020-EIC-FTI-2018-2020</td>\n",
       "      <td>IA</td>\n",
       "      <td>NaN</td>\n",
       "      <td>The overall objective of the project is to mat...</td>\n",
       "      <td>2021-05-21T14:25:08Z</td>\n",
       "      <td>236314</td>\n",
       "      <td>False</td>\n",
       "    </tr>\n",
       "    <tr>\n",
       "      <th>4</th>\n",
       "      <td>970564</td>\n",
       "      <td>IMPOWER2X</td>\n",
       "      <td>SIGNED</td>\n",
       "      <td>INERATEC Modular Plants for Renewable Chemical...</td>\n",
       "      <td>2021-05-01T00:00:00Z</td>\n",
       "      <td>2023-04-30T00:00:00Z</td>\n",
       "      <td>3492082.5</td>\n",
       "      <td>2444457.75</td>\n",
       "      <td>NaN</td>\n",
       "      <td>EIC-SMEInst-2018-2020</td>\n",
       "      <td>NaN</td>\n",
       "      <td>H2020</td>\n",
       "      <td>NaN</td>\n",
       "      <td>H2020-EIC-SMEInst-2018-2020-3</td>\n",
       "      <td>SME-2b</td>\n",
       "      <td>NaN</td>\n",
       "      <td>INERATEC (IC) sells modular chemical plants fo...</td>\n",
       "      <td>2021-05-21T14:24:55Z</td>\n",
       "      <td>236312</td>\n",
       "      <td>False</td>\n",
       "    </tr>\n",
       "  </tbody>\n",
       "</table>\n",
       "</div>"
      ],
      "text/plain": [
       "          id       acronym  status  \\\n",
       "0  101034345       DOROTHY  SIGNED   \n",
       "1  101034926        CNergy  SIGNED   \n",
       "2     957151  SATELLITE IA  SIGNED   \n",
       "3     970958      TilePlus  SIGNED   \n",
       "4     970564     IMPOWER2X  SIGNED   \n",
       "\n",
       "                                               title             startDate  \\\n",
       "0  DevelOp interdisciplinaRy apprOaches to healTH...  2021-09-01T00:00:00Z   \n",
       "1  Carbon Nanomembranes for Energy Storage Applic...  2021-05-01T00:00:00Z   \n",
       "2  Advanced MMICs for SOTM and satellites constel...  2020-10-01T00:00:00Z   \n",
       "3  Ground-breaking roof tile solution for solar e...  2021-06-01T00:00:00Z   \n",
       "4  INERATEC Modular Plants for Renewable Chemical...  2021-05-01T00:00:00Z   \n",
       "\n",
       "                endDate  totalCost  ecMaxContribution     legalBasis  \\\n",
       "0  2026-08-31T00:00:00Z  5517000.0         2758500.00  H2020-EU.1.3.   \n",
       "1  2022-01-31T00:00:00Z        0.0          100000.00            NaN   \n",
       "2  2021-12-31T00:00:00Z        0.0          109500.00  H2020-EU.2.3.   \n",
       "3  2023-05-31T00:00:00Z  3472500.0         2430750.00            NaN   \n",
       "4  2023-04-30T00:00:00Z  3492082.5         2444457.75            NaN   \n",
       "\n",
       "                      topics       ecSignatureDate frameworkProgramme  \\\n",
       "0           MSCA-COFUND-2020  2021-04-27T00:00:00Z              H2020   \n",
       "1  FETOPEN-03-2018-2019-2020                   NaN              H2020   \n",
       "2       INNOSUP-02-2019-2020  2020-09-15T00:00:00Z              H2020   \n",
       "3          EIC-FTI-2018-2020                   NaN              H2020   \n",
       "4      EIC-SMEInst-2018-2020                   NaN              H2020   \n",
       "\n",
       "                masterCall                         subCall   fundingScheme  \\\n",
       "0   H2020-MSCA-COFUND-2020          H2020-MSCA-COFUND-2020  MSCA-COFUND-FP   \n",
       "1                      NaN  H2020-FETOPEN-2018-2019-2020-4         CSA-LSP   \n",
       "2  H2020-INNOSUP-2018-2020           H2020-INNOSUP-2020-02         CSA-LSP   \n",
       "3                      NaN         H2020-EIC-FTI-2018-2020              IA   \n",
       "4                      NaN   H2020-EIC-SMEInst-2018-2020-3          SME-2b   \n",
       "\n",
       "  nature                                          objective  \\\n",
       "0    NaN  Responding to the need to equip European socie...   \n",
       "1    NaN  CNM Technologies (CNMT) has developed a highly...   \n",
       "2    NaN  The proliferation of LEO (Low Earth Orbit) and...   \n",
       "3    NaN  The overall objective of the project is to mat...   \n",
       "4    NaN  INERATEC (IC) sells modular chemical plants fo...   \n",
       "\n",
       "      contentUpdateDate     rcn    dup  \n",
       "0  2021-09-02T20:45:37Z  235801  False  \n",
       "1  2021-05-21T11:29:04Z  235780  False  \n",
       "2  2021-10-05T18:36:06Z  231593  False  \n",
       "3  2021-05-21T14:25:08Z  236314  False  \n",
       "4  2021-05-21T14:24:55Z  236312  False  "
      ]
     },
     "execution_count": 7,
     "metadata": {},
     "output_type": "execute_result"
    }
   ],
   "source": [
    "project_df.head()"
   ]
  },
  {
   "cell_type": "code",
   "execution_count": 9,
   "id": "e8009019",
   "metadata": {},
   "outputs": [],
   "source": [
    "# removing the duplicate columns.\n",
    "\n",
    "project_df = project_df[project_df['dup'] == False]"
   ]
  },
  {
   "cell_type": "code",
   "execution_count": 10,
   "id": "87a16a66",
   "metadata": {
    "scrolled": false
   },
   "outputs": [
    {
     "data": {
      "text/plain": [
       "(35303, 20)"
      ]
     },
     "execution_count": 10,
     "metadata": {},
     "output_type": "execute_result"
    }
   ],
   "source": [
    "project_df.shape"
   ]
  },
  {
   "cell_type": "code",
   "execution_count": 11,
   "id": "34acab45",
   "metadata": {},
   "outputs": [],
   "source": [
    "#deleting the column 'dup'\n",
    "del project_df['dup']\n"
   ]
  },
  {
   "cell_type": "markdown",
   "id": "a90158e2",
   "metadata": {},
   "source": [
    "# Text Preprocessing"
   ]
  },
  {
   "cell_type": "code",
   "execution_count": 12,
   "id": "2cf4e592",
   "metadata": {},
   "outputs": [],
   "source": [
    "import spacy\n",
    "nlp = spacy.load('en_core_web_sm')\n",
    "text = project_df['objective']\n"
   ]
  }
 ],
 "metadata": {
  "kernelspec": {
   "display_name": "Python 3",
   "language": "python",
   "name": "python3"
  },
  "language_info": {
   "codemirror_mode": {
    "name": "ipython",
    "version": 3
   },
   "file_extension": ".py",
   "mimetype": "text/x-python",
   "name": "python",
   "nbconvert_exporter": "python",
   "pygments_lexer": "ipython3",
   "version": "3.8.8"
  }
 },
 "nbformat": 4,
 "nbformat_minor": 5
}
